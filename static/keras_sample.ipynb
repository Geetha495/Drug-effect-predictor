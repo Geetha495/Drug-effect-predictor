{
  "nbformat": 4,
  "nbformat_minor": 0,
  "metadata": {
    "colab": {
      "name": "keras_sample.ipynb",
      "provenance": []
    },
    "kernelspec": {
      "name": "python3",
      "display_name": "Python 3"
    },
    "language_info": {
      "name": "python"
    }
  },
  "cells": [
    {
      "cell_type": "markdown",
      "source": [
        "# **Data Preparing and processing**"
      ],
      "metadata": {
        "id": "vDFnBebdnczl"
      }
    },
    {
      "cell_type": "code",
      "source": [
        "import numpy as np\n",
        "from random import randint\n",
        "from sklearn.utils import shuffle\n",
        "from sklearn.preprocessing import MinMaxScaler"
      ],
      "metadata": {
        "id": "W4eodc9VnFaP"
      },
      "execution_count": null,
      "outputs": []
    },
    {
      "cell_type": "code",
      "source": [
        "train_lables = []\n",
        "train_samples = []"
      ],
      "metadata": {
        "id": "psK-OCgina8F"
      },
      "execution_count": null,
      "outputs": []
    },
    {
      "cell_type": "markdown",
      "source": [
        "Example data\n",
        "- An experiemental drug was tested on individuals from ages 13 to 100 in a linical trial.\n",
        "- The trial had 2100 participants. Half were under 65 years old, half were 65 years or older.\n",
        "- 95% of patients 65 or older experienced side effects.\n",
        "- 95% of patients under 65 experienced no side effets."
      ],
      "metadata": {
        "id": "juvJGNMEnu89"
      }
    },
    {
      "cell_type": "code",
      "source": [
        "for i in range(50):\n",
        "  random_younger = randint(13,64)\n",
        "  train_samples.append(random_younger)\n",
        "  train_lables.append(1) # 5% young - side effects\n",
        "\n",
        "  random_older = randint(65,100)\n",
        "  train_samples.append(random_older)\n",
        "  train_lables.append(0) # 5% old - no side effects\n",
        "\n",
        "for i in range(1000):\n",
        "  random_younger = randint(13,64)\n",
        "  train_samples.append(random_younger)\n",
        "  train_lables.append(0) # 95% young - no side effects\n",
        "\n",
        "  random_older = randint(65,100)\n",
        "  train_samples.append(random_older)\n",
        "  train_lables.append(1) # 95% old - side effects\n",
        "\n"
      ],
      "metadata": {
        "id": "egp0V-xxn7vL"
      },
      "execution_count": null,
      "outputs": []
    },
    {
      "cell_type": "code",
      "source": [
        "train_lables = np.array(train_lables)\n",
        "train_samples = np.array(train_samples)\n",
        "train_lables, train_samples = shuffle(train_lables,train_samples)\n"
      ],
      "metadata": {
        "id": "md_tMhYxo163"
      },
      "execution_count": null,
      "outputs": []
    },
    {
      "cell_type": "code",
      "source": [
        "\n",
        "train_lables.shape"
      ],
      "metadata": {
        "colab": {
          "base_uri": "https://localhost:8080/"
        },
        "id": "nj3mulHysrr6",
        "outputId": "40505338-1fec-4547-ebe8-a286f12adbad"
      },
      "execution_count": null,
      "outputs": [
        {
          "output_type": "execute_result",
          "data": {
            "text/plain": [
              "(2100,)"
            ]
          },
          "metadata": {},
          "execution_count": 34
        }
      ]
    },
    {
      "cell_type": "code",
      "source": [
        "scaler = MinMaxScaler(feature_range=(0,1))\n",
        "scaled_train_samples = scaler.fit_transform(train_samples.reshape(-1,1))"
      ],
      "metadata": {
        "id": "obsNXiYCpLyP"
      },
      "execution_count": null,
      "outputs": []
    },
    {
      "cell_type": "markdown",
      "source": [
        "# **Simple tf.keras sequential model**"
      ],
      "metadata": {
        "id": "fXlC35OVpgmo"
      }
    },
    {
      "cell_type": "code",
      "source": [
        "import tensorflow as tf\n",
        "from tensorflow import keras\n",
        "from tensorflow.keras.models import Sequential\n",
        "from tensorflow.keras.layers import Activation, Dense\n",
        "from tensorflow.keras.optimizers import Adam\n",
        "from tensorflow.keras.metrics import categorical_crossentropy"
      ],
      "metadata": {
        "id": "9YjEk9EUpbUO"
      },
      "execution_count": null,
      "outputs": []
    },
    {
      "cell_type": "code",
      "source": [
        "model = Sequential([\n",
        "                    Dense(units=16,input_shape=(1,),activation='relu'),\n",
        "                    Dense(units=32,activation='relu'),\n",
        "                    Dense(units=2,activation='softmax')\n",
        "])"
      ],
      "metadata": {
        "id": "4suhuq5dqTh3"
      },
      "execution_count": null,
      "outputs": []
    },
    {
      "cell_type": "code",
      "source": [
        "model.summary()"
      ],
      "metadata": {
        "colab": {
          "base_uri": "https://localhost:8080/"
        },
        "id": "VGKhgBE5q1DC",
        "outputId": "bf6ea7f6-a906-4a58-ac23-91959c79138a"
      },
      "execution_count": null,
      "outputs": [
        {
          "output_type": "stream",
          "name": "stdout",
          "text": [
            "Model: \"sequential_1\"\n",
            "_________________________________________________________________\n",
            " Layer (type)                Output Shape              Param #   \n",
            "=================================================================\n",
            " dense_3 (Dense)             (None, 16)                32        \n",
            "                                                                 \n",
            " dense_4 (Dense)             (None, 32)                544       \n",
            "                                                                 \n",
            " dense_5 (Dense)             (None, 2)                 66        \n",
            "                                                                 \n",
            "=================================================================\n",
            "Total params: 642\n",
            "Trainable params: 642\n",
            "Non-trainable params: 0\n",
            "_________________________________________________________________\n"
          ]
        }
      ]
    },
    {
      "cell_type": "code",
      "source": [
        "model.compile(optimizer = Adam(learning_rate=0.0001), loss='sparse_categorical_crossentropy',metrics=['accuracy'])"
      ],
      "metadata": {
        "id": "dzj0c3kpq6Rs"
      },
      "execution_count": null,
      "outputs": []
    },
    {
      "cell_type": "code",
      "source": [
        "# model.fit(x=scaled_train_samples,y=train_lables,batch_size=10,epochs=30,shuffle=True,verbose=2)"
      ],
      "metadata": {
        "id": "bOJS4vzxrVnx"
      },
      "execution_count": null,
      "outputs": []
    },
    {
      "cell_type": "markdown",
      "source": [
        "# Validation"
      ],
      "metadata": {
        "id": "EegAmdZ-wGlv"
      }
    },
    {
      "cell_type": "code",
      "source": [
        "model.fit(x=scaled_train_samples,y=train_lables,validation_split=0.1,batch_size=10,epochs=30,shuffle=True,verbose=2)"
      ],
      "metadata": {
        "colab": {
          "base_uri": "https://localhost:8080/"
        },
        "id": "OLnH7xHqus-k",
        "outputId": "e0413736-b383-4bd9-c119-110796f022d0"
      },
      "execution_count": null,
      "outputs": [
        {
          "output_type": "stream",
          "name": "stdout",
          "text": [
            "Epoch 1/30\n",
            "189/189 - 1s - loss: 0.6505 - accuracy: 0.5423 - val_loss: 0.6189 - val_accuracy: 0.6476 - 873ms/epoch - 5ms/step\n",
            "Epoch 2/30\n",
            "189/189 - 0s - loss: 0.6298 - accuracy: 0.5979 - val_loss: 0.5940 - val_accuracy: 0.7000 - 273ms/epoch - 1ms/step\n",
            "Epoch 3/30\n",
            "189/189 - 0s - loss: 0.6028 - accuracy: 0.6825 - val_loss: 0.5563 - val_accuracy: 0.8048 - 278ms/epoch - 1ms/step\n",
            "Epoch 4/30\n",
            "189/189 - 0s - loss: 0.5674 - accuracy: 0.7587 - val_loss: 0.5237 - val_accuracy: 0.8333 - 320ms/epoch - 2ms/step\n",
            "Epoch 5/30\n",
            "189/189 - 0s - loss: 0.5385 - accuracy: 0.7963 - val_loss: 0.4936 - val_accuracy: 0.8524 - 342ms/epoch - 2ms/step\n",
            "Epoch 6/30\n",
            "189/189 - 0s - loss: 0.5086 - accuracy: 0.8185 - val_loss: 0.4621 - val_accuracy: 0.8714 - 350ms/epoch - 2ms/step\n",
            "Epoch 7/30\n",
            "189/189 - 0s - loss: 0.4736 - accuracy: 0.8492 - val_loss: 0.4291 - val_accuracy: 0.8952 - 387ms/epoch - 2ms/step\n",
            "Epoch 8/30\n",
            "189/189 - 0s - loss: 0.4427 - accuracy: 0.8677 - val_loss: 0.4025 - val_accuracy: 0.9000 - 298ms/epoch - 2ms/step\n",
            "Epoch 9/30\n",
            "189/189 - 0s - loss: 0.4159 - accuracy: 0.8857 - val_loss: 0.3798 - val_accuracy: 0.9048 - 286ms/epoch - 2ms/step\n",
            "Epoch 10/30\n",
            "189/189 - 0s - loss: 0.3921 - accuracy: 0.9011 - val_loss: 0.3593 - val_accuracy: 0.9143 - 336ms/epoch - 2ms/step\n",
            "Epoch 11/30\n",
            "189/189 - 0s - loss: 0.3711 - accuracy: 0.9032 - val_loss: 0.3425 - val_accuracy: 0.9143 - 284ms/epoch - 2ms/step\n",
            "Epoch 12/30\n",
            "189/189 - 0s - loss: 0.3530 - accuracy: 0.9106 - val_loss: 0.3261 - val_accuracy: 0.9143 - 305ms/epoch - 2ms/step\n",
            "Epoch 13/30\n",
            "189/189 - 0s - loss: 0.3379 - accuracy: 0.9153 - val_loss: 0.3143 - val_accuracy: 0.9238 - 296ms/epoch - 2ms/step\n",
            "Epoch 14/30\n",
            "189/189 - 0s - loss: 0.3256 - accuracy: 0.9185 - val_loss: 0.3052 - val_accuracy: 0.9238 - 294ms/epoch - 2ms/step\n",
            "Epoch 15/30\n",
            "189/189 - 0s - loss: 0.3152 - accuracy: 0.9238 - val_loss: 0.2978 - val_accuracy: 0.9286 - 271ms/epoch - 1ms/step\n",
            "Epoch 16/30\n",
            "189/189 - 0s - loss: 0.3069 - accuracy: 0.9217 - val_loss: 0.2934 - val_accuracy: 0.9286 - 271ms/epoch - 1ms/step\n",
            "Epoch 17/30\n",
            "189/189 - 1s - loss: 0.3002 - accuracy: 0.9259 - val_loss: 0.2871 - val_accuracy: 0.9286 - 553ms/epoch - 3ms/step\n",
            "Epoch 18/30\n",
            "189/189 - 1s - loss: 0.2941 - accuracy: 0.9286 - val_loss: 0.2820 - val_accuracy: 0.9286 - 558ms/epoch - 3ms/step\n",
            "Epoch 19/30\n",
            "189/189 - 1s - loss: 0.2892 - accuracy: 0.9249 - val_loss: 0.2820 - val_accuracy: 0.9381 - 740ms/epoch - 4ms/step\n",
            "Epoch 20/30\n",
            "189/189 - 1s - loss: 0.2850 - accuracy: 0.9360 - val_loss: 0.2788 - val_accuracy: 0.9381 - 726ms/epoch - 4ms/step\n",
            "Epoch 21/30\n",
            "189/189 - 1s - loss: 0.2816 - accuracy: 0.9323 - val_loss: 0.2763 - val_accuracy: 0.9381 - 602ms/epoch - 3ms/step\n",
            "Epoch 22/30\n",
            "189/189 - 1s - loss: 0.2785 - accuracy: 0.9344 - val_loss: 0.2728 - val_accuracy: 0.9286 - 631ms/epoch - 3ms/step\n",
            "Epoch 23/30\n",
            "189/189 - 1s - loss: 0.2757 - accuracy: 0.9312 - val_loss: 0.2740 - val_accuracy: 0.9381 - 584ms/epoch - 3ms/step\n",
            "Epoch 24/30\n",
            "189/189 - 1s - loss: 0.2733 - accuracy: 0.9360 - val_loss: 0.2725 - val_accuracy: 0.9381 - 522ms/epoch - 3ms/step\n",
            "Epoch 25/30\n",
            "189/189 - 1s - loss: 0.2709 - accuracy: 0.9360 - val_loss: 0.2695 - val_accuracy: 0.9381 - 709ms/epoch - 4ms/step\n",
            "Epoch 26/30\n",
            "189/189 - 1s - loss: 0.2693 - accuracy: 0.9333 - val_loss: 0.2688 - val_accuracy: 0.9381 - 652ms/epoch - 3ms/step\n",
            "Epoch 27/30\n",
            "189/189 - 1s - loss: 0.2674 - accuracy: 0.9360 - val_loss: 0.2697 - val_accuracy: 0.9381 - 760ms/epoch - 4ms/step\n",
            "Epoch 28/30\n",
            "189/189 - 1s - loss: 0.2660 - accuracy: 0.9360 - val_loss: 0.2685 - val_accuracy: 0.9381 - 532ms/epoch - 3ms/step\n",
            "Epoch 29/30\n",
            "189/189 - 1s - loss: 0.2645 - accuracy: 0.9386 - val_loss: 0.2670 - val_accuracy: 0.9381 - 518ms/epoch - 3ms/step\n",
            "Epoch 30/30\n",
            "189/189 - 1s - loss: 0.2633 - accuracy: 0.9360 - val_loss: 0.2672 - val_accuracy: 0.9381 - 562ms/epoch - 3ms/step\n"
          ]
        },
        {
          "output_type": "execute_result",
          "data": {
            "text/plain": [
              "<keras.callbacks.History at 0x7f3c63865b50>"
            ]
          },
          "metadata": {},
          "execution_count": 41
        }
      ]
    },
    {
      "cell_type": "code",
      "source": [
        "test_lables = []\n",
        "test_samples = []"
      ],
      "metadata": {
        "id": "vqcD1zhlw_fI"
      },
      "execution_count": null,
      "outputs": []
    },
    {
      "cell_type": "code",
      "source": [
        "for i in range(10):\n",
        "  random_younger = randint(13,64)\n",
        "  test_samples.append(random_younger)\n",
        "  test_lables.append(1) # 5% young - side effects\n",
        "\n",
        "  random_older = randint(65,100)\n",
        "  test_samples.append(random_older)\n",
        "  test_lables.append(0) # 5% old - no side effects\n",
        "\n",
        "for i in range(200):\n",
        "  random_younger = randint(13,64)\n",
        "  test_samples.append(random_younger)\n",
        "  test_lables.append(0) # 95% young - no side effects\n",
        "\n",
        "  random_older = randint(65,100)\n",
        "  test_samples.append(random_older)\n",
        "  test_lables.append(1) # 95% old - side effects"
      ],
      "metadata": {
        "id": "bhm8y_rNw8EX"
      },
      "execution_count": null,
      "outputs": []
    },
    {
      "cell_type": "code",
      "source": [
        "test_lables = np.array(test_lables)\n",
        "test_samples = np.array(test_samples)\n",
        "test_lables, test_samples = shuffle(test_lables,test_samples)\n"
      ],
      "metadata": {
        "id": "Xrl-kJSzxbFl"
      },
      "execution_count": null,
      "outputs": []
    },
    {
      "cell_type": "code",
      "source": [
        "scaler = MinMaxScaler(feature_range=(0,1))\n",
        "scaled_test_samples = scaler.fit_transform(test_samples.reshape(-1,1))"
      ],
      "metadata": {
        "id": "VO7j-OwvxlLO"
      },
      "execution_count": null,
      "outputs": []
    },
    {
      "cell_type": "markdown",
      "source": [
        "# **Predictions**"
      ],
      "metadata": {
        "id": "rri5D__9xslr"
      }
    },
    {
      "cell_type": "code",
      "source": [
        "predictions = model.predict(x=scaled_test_samples,batch_size=10,verbose=0)"
      ],
      "metadata": {
        "id": "HJlS1c2_xvH-",
        "colab": {
          "base_uri": "https://localhost:8080/"
        },
        "outputId": "6c1c362d-9b8f-41ed-ab62-96f62c973d4e"
      },
      "execution_count": null,
      "outputs": [
        {
          "output_type": "execute_result",
          "data": {
            "text/plain": [
              "array([0.82758621])"
            ]
          },
          "metadata": {},
          "execution_count": 58
        }
      ]
    },
    {
      "cell_type": "code",
      "source": [
        "print(predictions[1],scaled_test_samples[1])"
      ],
      "metadata": {
        "colab": {
          "base_uri": "https://localhost:8080/"
        },
        "id": "9CbG0pyDQetm",
        "outputId": "8c286cc3-91d7-4628-a76a-42f1d1281da7"
      },
      "execution_count": null,
      "outputs": [
        {
          "output_type": "stream",
          "name": "stdout",
          "text": [
            "[0.06390894 0.93609107] [0.82758621]\n"
          ]
        }
      ]
    },
    {
      "cell_type": "code",
      "source": [
        "rounded_predictions = np.argmax(predictions,axis=-1)"
      ],
      "metadata": {
        "id": "R0xoe_GyyD9L"
      },
      "execution_count": null,
      "outputs": []
    },
    {
      "cell_type": "markdown",
      "source": [
        "# **Confusion matrix**"
      ],
      "metadata": {
        "id": "iMjHUvYcyoNp"
      }
    },
    {
      "cell_type": "code",
      "source": [
        "%matplotlib inline\n",
        "from sklearn.metrics import confusion_matrix\n",
        "import itertools\n",
        "import matplotlib.pyplot as plt\n"
      ],
      "metadata": {
        "id": "aS5bevQqyRoY"
      },
      "execution_count": null,
      "outputs": []
    },
    {
      "cell_type": "code",
      "source": [
        "cm = confusion_matrix(y_true=test_lables,y_pred=rounded_predictions)"
      ],
      "metadata": {
        "id": "_SI-kRDDy9Yi"
      },
      "execution_count": null,
      "outputs": []
    },
    {
      "cell_type": "code",
      "source": [
        "import seaborn as sns\n",
        "\n",
        "ax = sns.heatmap(cm, annot=True, cmap='Blues')\n",
        "\n",
        "ax.set_title('Seaborn Confusion Matrix with labels\\n\\n');\n",
        "ax.set_xlabel('\\nPredicted Values')\n",
        "ax.set_ylabel('Actual Values ');\n",
        "\n",
        "## Ticket labels - List must be in alphabetical order\n",
        "ax.xaxis.set_ticklabels(['False','True'])\n",
        "ax.yaxis.set_ticklabels(['False','True'])\n",
        "\n",
        "## Display the visualization of the Confusion Matrix.\n",
        "plt.show()"
      ],
      "metadata": {
        "colab": {
          "base_uri": "https://localhost:8080/",
          "height": 337
        },
        "id": "YxCZg8uIzGf4",
        "outputId": "1d50aa99-ff7d-41a7-9d03-983c21c4ec2d"
      },
      "execution_count": null,
      "outputs": [
        {
          "output_type": "display_data",
          "data": {
            "image/png": "[encoded data removed]",
            "text/plain": [
              "<Figure size 432x288 with 2 Axes>"
            ]
          },
          "metadata": {
            "needs_background": "light"
          }
        }
      ]
    },
    {
      "cell_type": "markdown",
      "source": [
        "# **Save and load**"
      ],
      "metadata": {
        "id": "GhRdGprR0mHA"
      }
    },
    {
      "cell_type": "code",
      "source": [
        "import os.path\n",
        "if os.path.isfile('models/medical_train_model.h5') is False:\n",
        "  model.save('models/medical_train_model.h5')"
      ],
      "metadata": {
        "id": "0Pk4gQva0krn"
      },
      "execution_count": null,
      "outputs": []
    },
    {
      "cell_type": "code",
      "source": [
        "from tensorflow.keras.models import load_model"
      ],
      "metadata": {
        "id": "8swV6O2R1ABl"
      },
      "execution_count": null,
      "outputs": []
    },
    {
      "cell_type": "code",
      "source": [
        "new_model = load_model('models/medical_train_model.h5')"
      ],
      "metadata": {
        "id": "1ETpnqVi1SWv"
      },
      "execution_count": null,
      "outputs": []
    },
    {
      "cell_type": "code",
      "source": [
        "new_model.summary()"
      ],
      "metadata": {
        "colab": {
          "base_uri": "https://localhost:8080/"
        },
        "id": "U7wg6LV61Wg2",
        "outputId": "37d01219-1271-4587-e618-35d1ec30f70b"
      },
      "execution_count": null,
      "outputs": [
        {
          "output_type": "stream",
          "name": "stdout",
          "text": [
            "Model: \"sequential\"\n",
            "_________________________________________________________________\n",
            " Layer (type)                Output Shape              Param #   \n",
            "=================================================================\n",
            " dense (Dense)               (None, 16)                32        \n",
            "                                                                 \n",
            " dense_1 (Dense)             (None, 32)                544       \n",
            "                                                                 \n",
            " dense_2 (Dense)             (None, 2)                 66        \n",
            "                                                                 \n",
            "=================================================================\n",
            "Total params: 642\n",
            "Trainable params: 642\n",
            "Non-trainable params: 0\n",
            "_________________________________________________________________\n"
          ]
        }
      ]
    }
  ]
}